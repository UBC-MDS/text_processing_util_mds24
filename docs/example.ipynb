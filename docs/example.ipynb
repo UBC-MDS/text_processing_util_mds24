{
 "cells": [
  {
   "cell_type": "markdown",
   "metadata": {},
   "source": [
    "# Example usage\n",
    "\n",
    "This package, `text_processing_util_mds24`, includes four functions for processing and representing text data for machine learning tasks, specifically natural language processing. It provides three different functions for text representations that take a list of documents in the form of raw text: `frequency_vectorizer`, `tfidf_vectorizer` and `tokenizer_padding`. If users wish to represent text in another way, `text_clean` will make their lives easier by converting all characters to lower case, removing all punctuations and numbers, and splitting each document into a list of words. Examples on how to use these functions are documented on this page."
   ]
  },
  {
   "cell_type": "markdown",
   "metadata": {},
   "source": [
    "## Imports"
   ]
  },
  {
   "cell_type": "code",
   "execution_count": null,
   "metadata": {},
   "outputs": [],
   "source": [
    "from text_processing_util_mds24 import text_clean, frequency_vectorizer, tfidf_vectorizer, tokenizer_padding"
   ]
  },
  {
   "cell_type": "markdown",
   "metadata": {},
   "source": [
    "## Creating Text Documents"
   ]
  },
  {
   "cell_type": "markdown",
   "metadata": {},
   "source": [
    "We will first create a sample list of documents using the first paragraph of _On the Origin of Species_ by Charles Darwin. Here, each sentence in the paragraph is an individual document."
   ]
  },
  {
   "cell_type": "code",
   "execution_count": null,
   "metadata": {},
   "outputs": [],
   "source": [
    "origin_of_species = [\"When on board H.M.S. Beagle, as naturalist, I was much struck with certain facts in the distribution \" \\\n",
    "                     + \"of the organic beings inhabiting South America, and in the geological relations of the present to the \" \\\n",
    "                     + \"past inhabitants of that continent.\",\n",
    "                     \"These facts, as will be seen in the latter chapters of this volume, \" \\\n",
    "                     + \"seemed to throw some light on the origin of species—that mystery of mysteries, as it has been called by \" \\\n",
    "                     + \"one of our greatest philosophers.\",\n",
    "                     \"On my return home, it occurred to me, in 1837, that something might \" \\\n",
    "                     + \"perhaps be made out on this question by patiently accumulating and reflecting on all sorts of facts which \" \\\n",
    "                     + \"could possibly have any bearing on it.\",\n",
    "                     \"After five years’ work I allowed myself to speculate on the subject, \" \\\n",
    "                     + \"and drew up some short notes; these I enlarged in 1844 into a sketch of the conclusions, which then seemed \" \\\n",
    "                     + \"to me probable: from that period to the present day I have steadily pursued the same object.\",\n",
    "                     \"I hope that I may be excused for entering on these personal details, as I give them to show that \" \\\n",
    "                     + \"I have not been hasty in coming to a decision.\"]"
   ]
  },
  {
   "cell_type": "markdown",
   "metadata": {},
   "source": [
    "## Cleaning the Text"
   ]
  },
  {
   "cell_type": "markdown",
   "metadata": {},
   "source": [
    "`text_clean()` cleans raw text for further text processing. This function will convert all characters to lower case, remove punctuations as well as numbers, and split words by spaces. All other functions in this package will call `text_clean()` before transforming the text to other representations, and therefore accept raw text as input. The user can also use this function to clean texts before feeding the texts to another algorithm of their choice.\n",
    "The usage of this function is demonstrated below."
   ]
  },
  {
   "cell_type": "code",
   "execution_count": null,
   "metadata": {},
   "outputs": [],
   "source": [
    "cleaned_txt = text_clean(origin_of_species)\n",
    "for c in cleaned_txt:\n",
    "    print(str(c) + '\\n')"
   ]
  },
  {
   "cell_type": "markdown",
   "metadata": {},
   "source": [
    "In addition to cleaning the text, the package provides three different text representations to be used for machine learning models: frequency vectorizer, TF-IDF vectorizer and tokenizer plus padding."
   ]
  },
  {
   "cell_type": "markdown",
   "metadata": {},
   "source": [
    "## Text Representation 1: Frequency Vectorizer"
   ]
  },
  {
   "cell_type": "markdown",
   "metadata": {},
   "source": [
    "**one or two sentences describing what this function does in the context of usage and functionality**"
   ]
  },
  {
   "cell_type": "code",
   "execution_count": null,
   "metadata": {},
   "outputs": [],
   "source": []
  },
  {
   "cell_type": "markdown",
   "metadata": {},
   "source": [
    "## Text Representation 2: TF-IDF Vectorizer"
   ]
  },
  {
   "cell_type": "markdown",
   "metadata": {},
   "source": [
    "The `tfidf_vectorizer` function computes the Term Frequency-Inverse Document Frequency (TF-IDF) scores for a given list of documents, providing a numerical representation that highlights the importance of terms within the context of the entire document set. This function is useful for transforming text data into a feature matrix, capturing the significance of terms while considering their frequency and uniqueness across the document collection.\n",
    "\n",
    "The usage of this function is demonstrated below."
   ]
  },
  {
   "cell_type": "code",
   "execution_count": null,
   "metadata": {},
   "outputs": [],
   "source": [
    "text_tdidf_vectorized, feature_names = tfidf_vectorizer(origin_of_species)\n",
    "\n",
    "print(\"Vecotrized documents:\")\n",
    "for vectorized_doc in text_tdidf_vectorized:\n",
    "    print(vectorized_doc)\n",
    "\n",
    "print(\"\\nFeature names:\")\n",
    "print(feature_names)"
   ]
  },
  {
   "cell_type": "markdown",
   "metadata": {},
   "source": [
    "## Text Representation 3: Tokenizer and Padding"
   ]
  },
  {
   "cell_type": "markdown",
   "metadata": {},
   "source": [
    "If you would like to feed the data to recurrent neural networks (RNNs), you can use transform your text with `tokenizer_padding`. This function converts each word into an individual token represented by a number, but keeps the order of the original sentence, which is important for RNNs. It also pads shorter sequences with zeros at the end because deep learning libraries generally do not accept sequences of uneven lengths.\n",
    "\n",
    "The usage of this function is demonstrated below."
   ]
  },
  {
   "cell_type": "code",
   "execution_count": null,
   "metadata": {},
   "outputs": [],
   "source": [
    "text_tokenized_padded = tokenizer_padding(origin_of_species)\n",
    "text_tokenized_padded"
   ]
  }
 ],
 "metadata": {
  "kernelspec": {
   "display_name": "Python [conda env:text_processing]",
   "language": "python",
   "name": "python3"
  },
  "language_info": {
   "codemirror_mode": {
    "name": "ipython",
    "version": 3
   },
   "file_extension": ".py",
   "mimetype": "text/x-python",
   "name": "python",
   "nbconvert_exporter": "python",
   "pygments_lexer": "ipython3",
   "version": "3.9.18"
  }
 },
 "nbformat": 4,
 "nbformat_minor": 4
}
